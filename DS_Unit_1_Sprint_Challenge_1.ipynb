{
  "nbformat": 4,
  "nbformat_minor": 0,
  "metadata": {
    "colab": {
      "name": "DS_Unit_1_Sprint_Challenge_1.ipynb",
      "version": "0.3.2",
      "provenance": [],
      "collapsed_sections": [],
      "include_colab_link": true
    },
    "kernelspec": {
      "name": "python3",
      "display_name": "Python 3"
    }
  },
  "cells": [
    {
      "cell_type": "markdown",
      "metadata": {
        "id": "view-in-github",
        "colab_type": "text"
      },
      "source": [
        "<a href=\"https://colab.research.google.com/github/BrianBehnke/DS-Sprint-01-Dealing-With-Data/blob/master/DS_Unit_1_Sprint_Challenge_1.ipynb\" target=\"_parent\"><img src=\"https://colab.research.google.com/assets/colab-badge.svg\" alt=\"Open In Colab\"/></a>"
      ]
    },
    {
      "metadata": {
        "id": "NooAiTdnafkz",
        "colab_type": "text"
      },
      "cell_type": "markdown",
      "source": [
        "# Data Science Unit 1 Sprint Challenge 1\n",
        "\n",
        "## Loading, cleaning, visualizing, and analyzing data\n",
        "\n",
        "In this sprint challenge you will look at a dataset of the survival of patients who underwent surgery for breast cancer.\n",
        "\n",
        "http://archive.ics.uci.edu/ml/datasets/Haberman%27s+Survival\n",
        "\n",
        "Data Set Information:\n",
        "The dataset contains cases from a study that was conducted between 1958 and 1970 at the University of Chicago's Billings Hospital on the survival of patients who had undergone surgery for breast cancer.\n",
        "\n",
        "Attribute Information:\n",
        "1. Age of patient at time of operation (numerical)\n",
        "2. Patient's year of operation (year - 1900, numerical)\n",
        "3. Number of positive axillary nodes detected (numerical)\n",
        "4. Survival status (class attribute)\n",
        "-- 1 = the patient survived 5 years or longer\n",
        "-- 2 = the patient died within 5 year\n",
        "\n",
        "Sprint challenges are evaluated based on satisfactory completion of each part. It is suggested you work through it in order, getting each aspect reasonably working, before trying to deeply explore, iterate, or refine any given step. Once you get to the end, if you want to go back and improve things, go for it!"
      ]
    },
    {
      "metadata": {
        "id": "5wch6ksCbJtZ",
        "colab_type": "text"
      },
      "cell_type": "markdown",
      "source": [
        "## Part 1 - Load and validate the data\n",
        "\n",
        "- Load the data as a `pandas` data frame.\n",
        "- Validate that it has the appropriate number of observations (you can check the raw file, and also read the dataset description from UCI).\n",
        "- Validate that you have no missing values.\n",
        "- Add informative names to the features.\n",
        "- The survival variable is encoded as 1 for surviving >5 years and 2 for not - change this to be 0 for not surviving and 1 for surviving >5 years (0/1 is a more traditional encoding of binary variables)\n",
        "\n",
        "At the end, print the first five rows of the dataset to demonstrate the above."
      ]
    },
    {
      "metadata": {
        "id": "bjBxAKetNuDR",
        "colab_type": "code",
        "colab": {}
      },
      "cell_type": "code",
      "source": [
        "# Import libraries\n",
        "\n",
        "import pandas as pd\n",
        "import  numpy as np\n",
        "import matplotlib.pyplot as plt\n",
        "\n",
        "# Data comes from this webpage - http://archive.ics.uci.edu/ml/datasets/Haberman%27s+Survival\n",
        "# Data URL - http://archive.ics.uci.edu/ml/machine-learning-databases/haberman/haberman.data\n",
        "# Set data variable\n",
        "survival_data_url = 'http://archive.ics.uci.edu/ml/machine-learning-databases/haberman/haberman.data'\n",
        "\n",
        "# Raw data did not have column headers, so creating manually here\n",
        "column_names = [\"age\", \"year\", \"number of nodes\", \"survival status\"]\n",
        "\n",
        "# Import data into a dataframe\n",
        "# Since the raw data was missing a header I removed it on import\n",
        "survival_data = pd.read_csv(survival_data_url, header=None, names=column_names)\n"
      ],
      "execution_count": 0,
      "outputs": []
    },
    {
      "metadata": {
        "id": "tkKntelaOnGP",
        "colab_type": "code",
        "outputId": "0f64151f-345c-4e5b-ffbe-bb8c120488f8",
        "colab": {
          "base_uri": "https://localhost:8080/",
          "height": 204
        }
      },
      "cell_type": "code",
      "source": [
        "# Check header row of dataframe\n",
        "survival_data.head(5)"
      ],
      "execution_count": 3,
      "outputs": [
        {
          "output_type": "execute_result",
          "data": {
            "text/html": [
              "<div>\n",
              "<style scoped>\n",
              "    .dataframe tbody tr th:only-of-type {\n",
              "        vertical-align: middle;\n",
              "    }\n",
              "\n",
              "    .dataframe tbody tr th {\n",
              "        vertical-align: top;\n",
              "    }\n",
              "\n",
              "    .dataframe thead th {\n",
              "        text-align: right;\n",
              "    }\n",
              "</style>\n",
              "<table border=\"1\" class=\"dataframe\">\n",
              "  <thead>\n",
              "    <tr style=\"text-align: right;\">\n",
              "      <th></th>\n",
              "      <th>age</th>\n",
              "      <th>year</th>\n",
              "      <th>number of nodes</th>\n",
              "      <th>survival status</th>\n",
              "    </tr>\n",
              "  </thead>\n",
              "  <tbody>\n",
              "    <tr>\n",
              "      <th>0</th>\n",
              "      <td>30</td>\n",
              "      <td>64</td>\n",
              "      <td>1</td>\n",
              "      <td>1</td>\n",
              "    </tr>\n",
              "    <tr>\n",
              "      <th>1</th>\n",
              "      <td>30</td>\n",
              "      <td>62</td>\n",
              "      <td>3</td>\n",
              "      <td>1</td>\n",
              "    </tr>\n",
              "    <tr>\n",
              "      <th>2</th>\n",
              "      <td>30</td>\n",
              "      <td>65</td>\n",
              "      <td>0</td>\n",
              "      <td>1</td>\n",
              "    </tr>\n",
              "    <tr>\n",
              "      <th>3</th>\n",
              "      <td>31</td>\n",
              "      <td>59</td>\n",
              "      <td>2</td>\n",
              "      <td>1</td>\n",
              "    </tr>\n",
              "    <tr>\n",
              "      <th>4</th>\n",
              "      <td>31</td>\n",
              "      <td>65</td>\n",
              "      <td>4</td>\n",
              "      <td>1</td>\n",
              "    </tr>\n",
              "  </tbody>\n",
              "</table>\n",
              "</div>"
            ],
            "text/plain": [
              "   age  year  number of nodes  survival status\n",
              "0   30    64                1                1\n",
              "1   30    62                3                1\n",
              "2   30    65                0                1\n",
              "3   31    59                2                1\n",
              "4   31    65                4                1"
            ]
          },
          "metadata": {
            "tags": []
          },
          "execution_count": 3
        }
      ]
    },
    {
      "metadata": {
        "id": "ojxCgO6TPwnN",
        "colab_type": "code",
        "outputId": "bfce423d-6ce9-4f07-c0d9-114dbf1ca7cc",
        "colab": {
          "base_uri": "https://localhost:8080/",
          "height": 102
        }
      },
      "cell_type": "code",
      "source": [
        "# Verify number of observations in imported dataframe\n",
        "# There should be 306 observations according to the raw data\n",
        "survival_data.count()"
      ],
      "execution_count": 4,
      "outputs": [
        {
          "output_type": "execute_result",
          "data": {
            "text/plain": [
              "age                306\n",
              "year               306\n",
              "number of nodes    306\n",
              "survival status    306\n",
              "dtype: int64"
            ]
          },
          "metadata": {
            "tags": []
          },
          "execution_count": 4
        }
      ]
    },
    {
      "metadata": {
        "id": "WBPE_FXVQIZL",
        "colab_type": "code",
        "outputId": "3d338157-663f-41d5-98e5-3574b9dae0b1",
        "colab": {
          "base_uri": "https://localhost:8080/",
          "height": 102
        }
      },
      "cell_type": "code",
      "source": [
        "# Checking data for Null values\n",
        "survival_data.isna().sum()"
      ],
      "execution_count": 5,
      "outputs": [
        {
          "output_type": "execute_result",
          "data": {
            "text/plain": [
              "age                0\n",
              "year               0\n",
              "number of nodes    0\n",
              "survival status    0\n",
              "dtype: int64"
            ]
          },
          "metadata": {
            "tags": []
          },
          "execution_count": 5
        }
      ]
    },
    {
      "metadata": {
        "id": "5UFNdnkebeo1",
        "colab_type": "code",
        "outputId": "076c430c-860c-4eea-bf0d-4607af56ece2",
        "colab": {
          "base_uri": "https://localhost:8080/",
          "height": 170
        }
      },
      "cell_type": "code",
      "source": [
        "survival_data.info()\n"
      ],
      "execution_count": 28,
      "outputs": [
        {
          "output_type": "stream",
          "text": [
            "<class 'pandas.core.frame.DataFrame'>\n",
            "RangeIndex: 306 entries, 0 to 305\n",
            "Data columns (total 4 columns):\n",
            "age                306 non-null int64\n",
            "year               306 non-null int64\n",
            "number of nodes    306 non-null int64\n",
            "survival status    306 non-null int64\n",
            "dtypes: int64(4)\n",
            "memory usage: 9.6 KB\n"
          ],
          "name": "stdout"
        }
      ]
    },
    {
      "metadata": {
        "id": "ppwEQ_N3QXSD",
        "colab_type": "code",
        "outputId": "c7a52f2b-b64a-4658-da2d-1614c95b0cc3",
        "colab": {
          "base_uri": "https://localhost:8080/",
          "height": 669
        }
      },
      "cell_type": "code",
      "source": [
        "# No Nulls, so no need to drop NAs\n",
        "# Lets change the values on \"survival status\" from 1/2 to 0/1\n",
        "survival_data['survival status'].replace([1], [0], inplace=True)\n",
        "survival_data['survival status'].replace([2], [1], inplace=True)\n",
        "survival_data.head(20)\n"
      ],
      "execution_count": 43,
      "outputs": [
        {
          "output_type": "execute_result",
          "data": {
            "text/html": [
              "<div>\n",
              "<style scoped>\n",
              "    .dataframe tbody tr th:only-of-type {\n",
              "        vertical-align: middle;\n",
              "    }\n",
              "\n",
              "    .dataframe tbody tr th {\n",
              "        vertical-align: top;\n",
              "    }\n",
              "\n",
              "    .dataframe thead th {\n",
              "        text-align: right;\n",
              "    }\n",
              "</style>\n",
              "<table border=\"1\" class=\"dataframe\">\n",
              "  <thead>\n",
              "    <tr style=\"text-align: right;\">\n",
              "      <th></th>\n",
              "      <th>age</th>\n",
              "      <th>year</th>\n",
              "      <th>number of nodes</th>\n",
              "      <th>survival status</th>\n",
              "    </tr>\n",
              "  </thead>\n",
              "  <tbody>\n",
              "    <tr>\n",
              "      <th>0</th>\n",
              "      <td>30</td>\n",
              "      <td>64</td>\n",
              "      <td>1</td>\n",
              "      <td>0</td>\n",
              "    </tr>\n",
              "    <tr>\n",
              "      <th>1</th>\n",
              "      <td>30</td>\n",
              "      <td>62</td>\n",
              "      <td>3</td>\n",
              "      <td>0</td>\n",
              "    </tr>\n",
              "    <tr>\n",
              "      <th>2</th>\n",
              "      <td>30</td>\n",
              "      <td>65</td>\n",
              "      <td>0</td>\n",
              "      <td>0</td>\n",
              "    </tr>\n",
              "    <tr>\n",
              "      <th>3</th>\n",
              "      <td>31</td>\n",
              "      <td>59</td>\n",
              "      <td>2</td>\n",
              "      <td>0</td>\n",
              "    </tr>\n",
              "    <tr>\n",
              "      <th>4</th>\n",
              "      <td>31</td>\n",
              "      <td>65</td>\n",
              "      <td>4</td>\n",
              "      <td>0</td>\n",
              "    </tr>\n",
              "    <tr>\n",
              "      <th>5</th>\n",
              "      <td>33</td>\n",
              "      <td>58</td>\n",
              "      <td>10</td>\n",
              "      <td>0</td>\n",
              "    </tr>\n",
              "    <tr>\n",
              "      <th>6</th>\n",
              "      <td>33</td>\n",
              "      <td>60</td>\n",
              "      <td>0</td>\n",
              "      <td>0</td>\n",
              "    </tr>\n",
              "    <tr>\n",
              "      <th>7</th>\n",
              "      <td>34</td>\n",
              "      <td>59</td>\n",
              "      <td>0</td>\n",
              "      <td>1</td>\n",
              "    </tr>\n",
              "    <tr>\n",
              "      <th>8</th>\n",
              "      <td>34</td>\n",
              "      <td>66</td>\n",
              "      <td>9</td>\n",
              "      <td>1</td>\n",
              "    </tr>\n",
              "    <tr>\n",
              "      <th>9</th>\n",
              "      <td>34</td>\n",
              "      <td>58</td>\n",
              "      <td>30</td>\n",
              "      <td>0</td>\n",
              "    </tr>\n",
              "    <tr>\n",
              "      <th>10</th>\n",
              "      <td>34</td>\n",
              "      <td>60</td>\n",
              "      <td>1</td>\n",
              "      <td>0</td>\n",
              "    </tr>\n",
              "    <tr>\n",
              "      <th>11</th>\n",
              "      <td>34</td>\n",
              "      <td>61</td>\n",
              "      <td>10</td>\n",
              "      <td>0</td>\n",
              "    </tr>\n",
              "    <tr>\n",
              "      <th>12</th>\n",
              "      <td>34</td>\n",
              "      <td>67</td>\n",
              "      <td>7</td>\n",
              "      <td>0</td>\n",
              "    </tr>\n",
              "    <tr>\n",
              "      <th>13</th>\n",
              "      <td>34</td>\n",
              "      <td>60</td>\n",
              "      <td>0</td>\n",
              "      <td>0</td>\n",
              "    </tr>\n",
              "    <tr>\n",
              "      <th>14</th>\n",
              "      <td>35</td>\n",
              "      <td>64</td>\n",
              "      <td>13</td>\n",
              "      <td>0</td>\n",
              "    </tr>\n",
              "    <tr>\n",
              "      <th>15</th>\n",
              "      <td>35</td>\n",
              "      <td>63</td>\n",
              "      <td>0</td>\n",
              "      <td>0</td>\n",
              "    </tr>\n",
              "    <tr>\n",
              "      <th>16</th>\n",
              "      <td>36</td>\n",
              "      <td>60</td>\n",
              "      <td>1</td>\n",
              "      <td>0</td>\n",
              "    </tr>\n",
              "    <tr>\n",
              "      <th>17</th>\n",
              "      <td>36</td>\n",
              "      <td>69</td>\n",
              "      <td>0</td>\n",
              "      <td>0</td>\n",
              "    </tr>\n",
              "    <tr>\n",
              "      <th>18</th>\n",
              "      <td>37</td>\n",
              "      <td>60</td>\n",
              "      <td>0</td>\n",
              "      <td>0</td>\n",
              "    </tr>\n",
              "    <tr>\n",
              "      <th>19</th>\n",
              "      <td>37</td>\n",
              "      <td>63</td>\n",
              "      <td>0</td>\n",
              "      <td>0</td>\n",
              "    </tr>\n",
              "  </tbody>\n",
              "</table>\n",
              "</div>"
            ],
            "text/plain": [
              "    age  year  number of nodes  survival status\n",
              "0    30    64                1                0\n",
              "1    30    62                3                0\n",
              "2    30    65                0                0\n",
              "3    31    59                2                0\n",
              "4    31    65                4                0\n",
              "5    33    58               10                0\n",
              "6    33    60                0                0\n",
              "7    34    59                0                1\n",
              "8    34    66                9                1\n",
              "9    34    58               30                0\n",
              "10   34    60                1                0\n",
              "11   34    61               10                0\n",
              "12   34    67                7                0\n",
              "13   34    60                0                0\n",
              "14   35    64               13                0\n",
              "15   35    63                0                0\n",
              "16   36    60                1                0\n",
              "17   36    69                0                0\n",
              "18   37    60                0                0\n",
              "19   37    63                0                0"
            ]
          },
          "metadata": {
            "tags": []
          },
          "execution_count": 43
        }
      ]
    },
    {
      "metadata": {
        "id": "G7rLytbrO38L",
        "colab_type": "text"
      },
      "cell_type": "markdown",
      "source": [
        "## Part 2 - Examine the distribution and relationships of the features\n",
        "\n",
        "Explore the data - create at least *2* tables (can be summary statistics or crosstabulations) and *2* plots illustrating the nature of the data.\n",
        "\n",
        "This is open-ended, so to remind - first *complete* this task as a baseline, then go on to the remaining sections, and *then* as time allows revisit and explore further.\n",
        "\n",
        "Hint - you may need to bin some variables depending on your chosen tables/plots."
      ]
    },
    {
      "metadata": {
        "id": "aBpQXDeScFD3",
        "colab_type": "code",
        "colab": {}
      },
      "cell_type": "code",
      "source": [
        "# Setting the display options for pandas display to enable larger amount of \n",
        "# info to be shown on screen\n",
        "pd.set_option('display.height', 1000)\n",
        "pd.set_option('display.max_rows', 500)\n",
        "pd.set_option('display.max_columns', 50)\n",
        "pd.set_option('display.width', 1000)"
      ],
      "execution_count": 0,
      "outputs": []
    },
    {
      "metadata": {
        "id": "7gaNK71vcGiV",
        "colab_type": "code",
        "outputId": "454e7ae5-b4bc-447a-954e-4721f34e1ae3",
        "colab": {
          "base_uri": "https://localhost:8080/",
          "height": 442
        }
      },
      "cell_type": "code",
      "source": [
        "# Summary of data\n",
        "print(survival_data.head())\n",
        "print(survival_data.dtypes)\n",
        "print(survival_data.isna().sum())\n",
        "print(survival_data.describe())"
      ],
      "execution_count": 0,
      "outputs": [
        {
          "output_type": "stream",
          "text": [
            "   age  year  number of nodes  survival status\n",
            "0   30    64                1                1\n",
            "1   30    62                3                1\n",
            "2   30    65                0                1\n",
            "3   31    59                2                1\n",
            "4   31    65                4                1\n",
            "age                int64\n",
            "year               int64\n",
            "number of nodes    int64\n",
            "survival status    int64\n",
            "dtype: object\n",
            "age                0\n",
            "year               0\n",
            "number of nodes    0\n",
            "survival status    0\n",
            "dtype: int64\n",
            "              age        year  number of nodes  survival status\n",
            "count  306.000000  306.000000       306.000000       306.000000\n",
            "mean    52.457516   62.852941         4.026144         1.264706\n",
            "std     10.803452    3.249405         7.189654         0.441899\n",
            "min     30.000000   58.000000         0.000000         1.000000\n",
            "25%     44.000000   60.000000         0.000000         1.000000\n",
            "50%     52.000000   63.000000         1.000000         1.000000\n",
            "75%     60.750000   65.750000         4.000000         2.000000\n",
            "max     83.000000   69.000000        52.000000         2.000000\n"
          ],
          "name": "stdout"
        }
      ]
    },
    {
      "metadata": {
        "id": "IAkllgCIFVj0",
        "colab_type": "code",
        "outputId": "c14d7896-07bd-430d-8273-321b1b03f54c",
        "colab": {
          "base_uri": "https://localhost:8080/",
          "height": 1445
        }
      },
      "cell_type": "code",
      "source": [
        "# Makign crosstabs with the data\n",
        "age_survival_crosstab = pd.crosstab(survival_data['age'], survival_data['survival status'])\n",
        "nodes_survival_crosstab = pd.crosstab(survival_data['number of nodes'], survival_data['survival status'])\n",
        "\n",
        "print(age_survival_crosstab)\n",
        "print(nodes_survival_crosstab)"
      ],
      "execution_count": 0,
      "outputs": [
        {
          "output_type": "stream",
          "text": [
            "survival status   1  2\n",
            "age                   \n",
            "30                3  0\n",
            "31                2  0\n",
            "33                2  0\n",
            "34                5  2\n",
            "35                2  0\n",
            "36                2  0\n",
            "37                6  0\n",
            "38                9  1\n",
            "39                5  1\n",
            "40                3  0\n",
            "41                7  3\n",
            "42                7  2\n",
            "43                7  4\n",
            "44                4  3\n",
            "45                6  3\n",
            "46                3  4\n",
            "47                8  3\n",
            "48                4  3\n",
            "49                8  2\n",
            "50               10  2\n",
            "51                4  2\n",
            "52               10  4\n",
            "53                5  6\n",
            "54                9  4\n",
            "55                8  2\n",
            "56                5  2\n",
            "57                8  3\n",
            "58                7  0\n",
            "59                7  1\n",
            "60                4  2\n",
            "61                6  3\n",
            "62                4  3\n",
            "63                7  1\n",
            "64                5  0\n",
            "65                6  4\n",
            "66                3  2\n",
            "67                4  2\n",
            "68                2  0\n",
            "69                3  1\n",
            "70                5  2\n",
            "71                1  0\n",
            "72                3  1\n",
            "73                2  0\n",
            "74                1  1\n",
            "75                1  0\n",
            "76                1  0\n",
            "77                1  0\n",
            "78                0  1\n",
            "83                0  1\n",
            "survival status    1   2\n",
            "number of nodes         \n",
            "0                117  19\n",
            "1                 33   8\n",
            "2                 15   5\n",
            "3                 13   7\n",
            "4                 10   3\n",
            "5                  2   4\n",
            "6                  4   3\n",
            "7                  5   2\n",
            "8                  5   2\n",
            "9                  2   4\n",
            "10                 2   1\n",
            "11                 1   3\n",
            "12                 1   1\n",
            "13                 1   4\n",
            "14                 3   1\n",
            "15                 1   2\n",
            "16                 1   0\n",
            "17                 0   1\n",
            "18                 1   0\n",
            "19                 1   2\n",
            "20                 1   1\n",
            "21                 0   1\n",
            "22                 2   1\n",
            "23                 0   3\n",
            "24                 0   1\n",
            "25                 1   0\n",
            "28                 1   0\n",
            "30                 1   0\n",
            "35                 0   1\n",
            "46                 1   0\n",
            "52                 0   1\n"
          ],
          "name": "stdout"
        }
      ]
    },
    {
      "metadata": {
        "id": "lszFU1QRdZOw",
        "colab_type": "code",
        "outputId": "1a01089a-d794-4490-9d2d-4b512957926f",
        "colab": {
          "base_uri": "https://localhost:8080/",
          "height": 255
        }
      },
      "cell_type": "code",
      "source": [
        "# Making bins for charting\n",
        "age_bin = pd.cut(survival_data['age'], 5)\n",
        "nodes_bin = pd.cut(survival_data['number of nodes'], 5)\n",
        "survival_bin = pd.cut(survival_data['survival status'], 2)\n",
        "\n",
        "# New crosstabs with bins\n",
        "age_survival_crosstab_bins = pd.crosstab(age_bin, survival_bin)\n",
        "nodes_survival_crosstab_bins = pd.crosstab(nodes_bin, survival_bin)\n",
        "\n",
        "print(age_survival_crosstab_bins)\n",
        "print(nodes_survival_crosstab_bins)"
      ],
      "execution_count": 0,
      "outputs": [
        {
          "output_type": "stream",
          "text": [
            "survival status  (0.999, 1.5]  (1.5, 2.0]\n",
            "age                                      \n",
            "(29.947, 40.6]             39           4\n",
            "(40.6, 51.2]               68          31\n",
            "(51.2, 61.8]               69          27\n",
            "(61.8, 72.4]               43          16\n",
            "(72.4, 83.0]                6           3\n",
            "survival status  (0.999, 1.5]  (1.5, 2.0]\n",
            "number of nodes                          \n",
            "(-0.052, 10.4]            208          58\n",
            "(10.4, 20.8]               11          15\n",
            "(20.8, 31.2]                5           6\n",
            "(31.2, 41.6]                0           1\n",
            "(41.6, 52.0]                1           1\n"
          ],
          "name": "stdout"
        }
      ]
    },
    {
      "metadata": {
        "id": "vzwGH1PWePIB",
        "colab_type": "code",
        "outputId": "b93716fe-71f6-4b39-b613-b2e5d1f7b941",
        "colab": {
          "base_uri": "https://localhost:8080/",
          "height": 255
        }
      },
      "cell_type": "code",
      "source": [
        "# We can make this a bit clearer by normalizing (getting %)\n",
        "print(pd.crosstab(age_bin, survival_bin, normalize='columns'))\n",
        "print(pd.crosstab(nodes_bin, survival_bin, normalize='columns'))"
      ],
      "execution_count": 0,
      "outputs": [
        {
          "output_type": "stream",
          "text": [
            "survival status  (0.999, 1.5]  (1.5, 2.0]\n",
            "age                                      \n",
            "(29.947, 40.6]       0.173333    0.049383\n",
            "(40.6, 51.2]         0.302222    0.382716\n",
            "(51.2, 61.8]         0.306667    0.333333\n",
            "(61.8, 72.4]         0.191111    0.197531\n",
            "(72.4, 83.0]         0.026667    0.037037\n",
            "survival status  (0.999, 1.5]  (1.5, 2.0]\n",
            "number of nodes                          \n",
            "(-0.052, 10.4]       0.924444    0.716049\n",
            "(10.4, 20.8]         0.048889    0.185185\n",
            "(20.8, 31.2]         0.022222    0.074074\n",
            "(31.2, 41.6]         0.000000    0.012346\n",
            "(41.6, 52.0]         0.004444    0.012346\n"
          ],
          "name": "stdout"
        }
      ]
    },
    {
      "metadata": {
        "id": "g1YuOieEep1w",
        "colab_type": "code",
        "outputId": "f1669724-2d09-471d-a98a-77e7286528df",
        "colab": {
          "base_uri": "https://localhost:8080/",
          "height": 354
        }
      },
      "cell_type": "code",
      "source": [
        "# Lets print the chart as is\n",
        "survival_data.plot.bar();"
      ],
      "execution_count": 0,
      "outputs": [
        {
          "output_type": "display_data",
          "data": {
            "image/png": "[encoded data removed]",
            "text/plain": [
              "<matplotlib.figure.Figure at 0x7f0fa080d710>"
            ]
          },
          "metadata": {
            "tags": []
          }
        }
      ]
    },
    {
      "metadata": {
        "id": "IYFrqrXae6XZ",
        "colab_type": "code",
        "outputId": "68a0b8db-9038-46d5-f2cc-7587c1700e95",
        "colab": {
          "base_uri": "https://localhost:8080/",
          "height": 476
        }
      },
      "cell_type": "code",
      "source": [
        "# Chart is diffcult to read, lets try another way\n",
        "crosstab_plot = pd.crosstab([age_bin, nodes_bin], survival_bin,\n",
        "                 normalize='columns')\n",
        "print (crosstab_plot)"
      ],
      "execution_count": 0,
      "outputs": [
        {
          "output_type": "stream",
          "text": [
            "survival status                 (0.999, 1.5]  (1.5, 2.0]\n",
            "age            number of nodes                          \n",
            "(29.947, 40.6] (-0.052, 10.4]       0.155556    0.037037\n",
            "               (10.4, 20.8]         0.013333    0.000000\n",
            "               (20.8, 31.2]         0.004444    0.012346\n",
            "               (31.2, 41.6]         0.000000    0.000000\n",
            "               (41.6, 52.0]         0.000000    0.000000\n",
            "(40.6, 51.2]   (-0.052, 10.4]       0.280000    0.271605\n",
            "               (10.4, 20.8]         0.022222    0.074074\n",
            "               (20.8, 31.2]         0.000000    0.024691\n",
            "               (31.2, 41.6]         0.000000    0.000000\n",
            "               (41.6, 52.0]         0.000000    0.012346\n",
            "(51.2, 61.8]   (-0.052, 10.4]       0.284444    0.234568\n",
            "               (10.4, 20.8]         0.008889    0.061728\n",
            "               (20.8, 31.2]         0.008889    0.024691\n",
            "               (31.2, 41.6]         0.000000    0.012346\n",
            "               (41.6, 52.0]         0.004444    0.000000\n",
            "(61.8, 72.4]   (-0.052, 10.4]       0.177778    0.135802\n",
            "               (10.4, 20.8]         0.004444    0.049383\n",
            "               (20.8, 31.2]         0.008889    0.012346\n",
            "               (31.2, 41.6]         0.000000    0.000000\n",
            "               (41.6, 52.0]         0.000000    0.000000\n",
            "(72.4, 83.0]   (-0.052, 10.4]       0.026667    0.037037\n",
            "               (10.4, 20.8]         0.000000    0.000000\n",
            "               (20.8, 31.2]         0.000000    0.000000\n",
            "               (31.2, 41.6]         0.000000    0.000000\n",
            "               (41.6, 52.0]         0.000000    0.000000\n"
          ],
          "name": "stdout"
        }
      ]
    },
    {
      "metadata": {
        "id": "-rD5RdUFfGqv",
        "colab_type": "code",
        "outputId": "85d88ca9-85a8-450e-d5ba-b2b3a28cbce4",
        "colab": {
          "base_uri": "https://localhost:8080/",
          "height": 730
        }
      },
      "cell_type": "code",
      "source": [
        "# Crosstab seems to get the data in a nice order for a chart\n",
        "# Lets make a stacked bar chart\n",
        "crosstab_plot.plot(kind='bar', stacked=True, figsize=(20,10));"
      ],
      "execution_count": 0,
      "outputs": [
        {
          "output_type": "display_data",
          "data": {
            "image/png": "[encoded data removed]",
            "text/plain": [
              "<matplotlib.figure.Figure at 0x7f0fa3541828>"
            ]
          },
          "metadata": {
            "tags": []
          }
        }
      ]
    },
    {
      "metadata": {
        "id": "ihadsBs-finN",
        "colab_type": "code",
        "outputId": "08da476b-d542-48bc-d836-b1d65165fa6a",
        "colab": {
          "base_uri": "https://localhost:8080/",
          "height": 745
        }
      },
      "cell_type": "code",
      "source": [
        "# Stacked is difficult to discern patterns and differences. \n",
        "# lets try a non=stacked bar chart\n",
        "crosstab_plot.plot(kind='bar', stacked=False, figsize=(20,10), title='number of nodes and age by survival status');"
      ],
      "execution_count": 0,
      "outputs": [
        {
          "output_type": "display_data",
          "data": {
            "image/png": "[encoded data removed]",
            "text/plain": [
              "<matplotlib.figure.Figure at 0x7f0fa34def60>"
            ]
          },
          "metadata": {
            "tags": []
          }
        }
      ]
    },
    {
      "metadata": {
        "id": "IjBDntHZfwi_",
        "colab_type": "code",
        "outputId": "139ba3da-76e9-4141-fa5c-69565f7906d2",
        "colab": {
          "base_uri": "https://localhost:8080/",
          "height": 347
        }
      },
      "cell_type": "code",
      "source": [
        "# Not the easiest chart to read, but looks nicer that the stacked bar chart\n",
        "# lets see about a box plot\n",
        "crosstab_plot.boxplot();"
      ],
      "execution_count": 0,
      "outputs": [
        {
          "output_type": "display_data",
          "data": {
            "image/png": "[encoded data removed]",
            "text/plain": [
              "<matplotlib.figure.Figure at 0x7f0fa38cbcc0>"
            ]
          },
          "metadata": {
            "tags": []
          }
        }
      ]
    },
    {
      "metadata": {
        "id": "ZM8JckA2bgnp",
        "colab_type": "text"
      },
      "cell_type": "markdown",
      "source": [
        "## Part 3 - Analysis and Interpretation\n",
        "\n",
        "Now that you've looked at the data, answer the following questions:\n",
        "\n",
        "- What is at least one feature that looks to have a positive correlation with survival?\n",
        "- What is at least one feature that looks to have a negative correlation with survival?\n",
        "- How are those two features related with each other, and what might that mean?\n",
        "\n",
        "Answer with text, but feel free to intersperse example code/results or refer to it from earlier."
      ]
    },
    {
      "metadata": {
        "id": "SWLJNHKdgCbU",
        "colab_type": "text"
      },
      "cell_type": "markdown",
      "source": [
        "# Positive correlation with survival\n",
        "\n"
      ]
    },
    {
      "metadata": {
        "id": "IpbIc0QLiPLQ",
        "colab_type": "text"
      },
      "cell_type": "markdown",
      "source": [
        "# Negative correlation with survival\n"
      ]
    },
    {
      "metadata": {
        "id": "MjJPhQBWiS6h",
        "colab_type": "text"
      },
      "cell_type": "markdown",
      "source": [
        "# How are these features related\n",
        "\n"
      ]
    }
  ]
}